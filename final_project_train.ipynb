{
 "cells": [
  {
   "cell_type": "markdown",
   "metadata": {},
   "source": [
    "packages to install\n",
    "torch==2.1.0\n",
    "torchvision==0.16.0\n",
    "tqdm==4.66.1\n",
    "transformers==4.35.2\n",
    "matplotlib==3.7.3\n",
    "numpy==1.24.4\n",
    "pandas==2.0.3\n",
    "scikit-learn==1.3.1"
   ]
  },
  {
   "cell_type": "code",
   "execution_count": null,
   "metadata": {},
   "outputs": [],
   "source": [
    "import numpy as np \n",
    "import torch\n",
    "import math\n",
    "from torch.utils.data import Dataset\n",
    "from typing import List\n",
    "import pandas as pd\n",
    "import torch.nn as nn\n",
    "from sklearn.linear_model import LinearRegression\n",
    "from sklearn.metrics import mean_squared_error\n",
    "from sklearn.model_selection import train_test_split\n",
    "import matplotlib.pyplot as plt\n",
    "\n",
    "\n",
    "csvname = 'UTKFaceAugmented.csv'\n",
    "dataset = csvname\n",
    "\n",
    "df = pd.read_csv(dataset)\n",
    "\n",
    "print(len(df))\n",
    "print(df.columns)\n",
    "print(df.info())\n",
    "df.drop(columns=['gender', 'race', 'uses_skincare'])\n",
    "# I dropped these columns since they have no effect on what age one looks\n",
    "\n",
    "#prepare data\n",
    "categoric_columns = ['has_tiktok' , 'remembers_disco','max_annual_earnings', 'num_haircuts_life']\n",
    "for i in range(len(categoric_columns)):\n",
    "    print(\"Column: {categoric_columns[i]}\")\n",
    "    counts = df[categoric_columns[i]].value_counts()\n",
    "    for label, count in counts.items():\n",
    "            print(\"Label: '{label}' | Frequency: {count}\")\n",
    "    \n",
    "keep_categoric_columns = ['has_tiktok' , 'remembers_disco','max_annual_earnings', 'num_haircuts_life']\n",
    "for col in keep_categoric_columns:\n",
    "     df = df.join(pd.get_dummies(df[col], dtype = 'int', prefix=col+'_cat'), how = 'outer')\n",
    "    #populate data as 1's and 0's\"\n",
    "\n",
    "\n",
    "\n",
    "\n"
   ]
  },
  {
   "cell_type": "code",
   "execution_count": null,
   "metadata": {},
   "outputs": [],
   "source": [
    "\n",
    "features = keep_categoric_columns\n",
    "target = ['age', 'age_range']\n",
    "\n",
    "# Features will be used to determine age\n",
    "# Target is what we're trying to figure out which is age\n",
    "\n",
    "train_df = df[features + target]\n",
    "# Split dataset into train and val set\n",
    "x_train, x_val, y_train, y_val = train_test_split(train_df[features], train_df[target], train_size=0.7)\n",
    "\n",
    "# Split val set into val and test set\n",
    "x_val, x_test, y_val, y_test = train_test_split(x_val, y_val, train_size=0.5)\n",
    "\n",
    "#20% test data 80% train data \n",
    "\n",
    "print(x_train.shape)\n",
    "print(x_test.shape)\n"
   ]
  },
  {
   "cell_type": "code",
   "execution_count": null,
   "metadata": {},
   "outputs": [],
   "source": [
    "from dataloader import CustomDataloader"
   ]
  },
  {
   "cell_type": "code",
   "execution_count": null,
   "metadata": {},
   "outputs": [],
   "source": [
    "x_train_encoded = pd.get_dummies(x_train)\n",
    "x_val_encoded = pd.get_dummies(x_val)\n",
    "y_train_encoded = pd.get_dummies(y_train)\n",
    "y_val_encoded = pd.get_dummies(y_val)\n",
    "\n",
    "# Convert the encoded DataFrame to a NumPy array\n",
    "x_val_np = x_val_encoded.values.astype(np.float32)\n",
    "x_train_np = x_train_encoded.values.astype(np.float32)\n",
    "y_train_np = y_train_encoded.values.astype(np.float32)\n",
    "y_val_np = y_val_encoded.values.astype(np.float32)\n",
    "\n",
    "#format data\n",
    "x_train, x_val = torch.Tensor(x_train_np), torch.Tensor(x_val_np)\n",
    "y_train, y_val = torch.Tensor(y_train_np), torch.Tensor(y_val_np)\n",
    "train_dataloader = CustomDataloader(x = x_train, y = y_train, batch_size=32)\n",
    "val_dataloader = CustomDataloader(x = x_val, y = y_val, batch_size=32)\n",
    "train_dataloader = CustomDataloader(x = x_train, y = y_train, batch_size=16, randomize=True)\n",
    "val_dataloader = CustomDataloader(x = x_val, y = y_val, batch_size=16, randomize=False)\n"
   ]
  },
  {
   "cell_type": "code",
   "execution_count": null,
   "metadata": {},
   "outputs": [],
   "source": [
    "# Initialize the Linear Regression model\n",
    "linear_regression = LinearRegression()\n",
    "\n",
    "# Train the model\n",
    "linear_regression.fit(x_train, y_train)\n",
    "\n",
    "# Make predictions\n",
    "y_pred = linear_regression.predict(x_train)\n",
    "\n",
    "# Calculate Mean Squared Error (MSE) for evaluation\n",
    "mse = mean_squared_error(y_train, y_pred)\n",
    "print(f\"Mean Squared Error (MSE): {mse:.4f}\")"
   ]
  },
  {
   "cell_type": "code",
   "execution_count": null,
   "metadata": {},
   "outputs": [],
   "source": [
    "\n",
    "# Plotting actual vs predicted values\n",
    "plt.figure(figsize=(8, 6))\n",
    "plt.scatter(y_train, y_pred, color='blue', label='Actual vs Predicted')\n",
    "plt.plot([y_train.min(), y_train.max()], [y_train.min(), y_train.max()], color='red', linestyle='--', label='Perfect Prediction')\n",
    "plt.xlabel('Actual Values')\n",
    "plt.ylabel('Predicted Values')\n",
    "plt.title('Actual vs Predicted Values (Linear Regression)')\n",
    "plt.legend()\n",
    "plt.show()"
   ]
  },
  {
   "cell_type": "code",
   "execution_count": null,
   "metadata": {},
   "outputs": [],
   "source": [
    "\n",
    "# Assuming y_pred contains the predicted values\n",
    "plt.figure(figsize=(8, 6))\n",
    "plt.hist(y_pred, bins=30, edgecolor='black')\n",
    "plt.xlabel('Predicted Values')\n",
    "plt.ylabel('Frequency')\n",
    "plt.title('Histogram of Predicted Values')\n",
    "plt.grid(True)\n",
    "plt.show()"
   ]
  },
  {
   "cell_type": "code",
   "execution_count": null,
   "metadata": {},
   "outputs": [],
   "source": [
    "\n",
    "\n",
    "# Initialize the Linear Regression model\n",
    "linear_regression = LinearRegression()\n",
    "\n",
    "# Lists to store training loss per iteration\n",
    "loss_per_iteration = []\n",
    "\n",
    "# Training loop (simulating epochs)\n",
    "iterations = 100  # Number of iterations (simulating epochs)\n",
    "for iteration in range(iterations):\n",
    "    # Fit the model\n",
    "    linear_regression.fit(x_train, y_train)\n",
    "    \n",
    "    # Make predictions\n",
    "    y_pred = linear_regression.predict(x_train)\n",
    "    \n",
    "    # Calculate Mean Squared Error (MSE) for evaluation\n",
    "    mse = mean_squared_error(y_train, y_pred)\n",
    "    print(f\"Iteration {iteration + 1}/{iterations} - Mean Squared Error (MSE): {mse:.4f}\")\n",
    "    \n",
    "    # Append the MSE to the list for plotting\n",
    "    loss_per_iteration.append(mse)\n",
    "\n"
   ]
  }
 ],
 "metadata": {
  "kernelspec": {
   "display_name": ".venv",
   "language": "python",
   "name": "python3"
  },
  "language_info": {
   "codemirror_mode": {
    "name": "ipython",
    "version": 3
   },
   "file_extension": ".py",
   "mimetype": "text/x-python",
   "name": "python",
   "nbconvert_exporter": "python",
   "pygments_lexer": "ipython3",
   "version": "3.11.6"
  }
 },
 "nbformat": 4,
 "nbformat_minor": 2
}
